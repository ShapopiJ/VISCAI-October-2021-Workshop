{
 "cells": [
  {
   "cell_type": "markdown",
   "id": "ed036d70",
   "metadata": {},
   "source": [
    "# Introduction to Linux\n",
    "\n",
    "### **Why Linux?**\n",
    "* It is free.\n",
    "    * When compared to it's largest rival, Windows, linux is free and can be downloaded in many different variations.\n",
    "* Beginner friednly and easy to use\n",
    "    * Many of the flavours that have been created are very user friendly and have built in tutorials to help you introduce you to the OS.\n",
    "* Reliable\n",
    "    * Unparalleled uptime\n",
    "* Hardware friendly\n",
    "    * Consumes less system resources\n",
    "* Security\n",
    "    * Almost non-vulnerable and more secure due to it's inherent design\n",
    "* Open-source\n",
    "    * Open source\n",
    "    * Flexible\n",
    "\n",
    "### **TO NAME BUT A FEW!**\n",
    "\n",
    "\n",
    "# Connecting to the HPC\n",
    "\n",
    "\n",
    "### Open a terminal: powershell, WSL, bash shell, etc.\n",
    " \n",
    "### ssh -p 1510 ```<username>@<server>```\n",
    "* ssh\n",
    "    * secure shell i.e. make a secure shell connection\n",
    "* -p 1510\n",
    "    * using a port number 1510 as opposed to the default port 22\n",
    "* ```<username>```\n",
    "    * your username on the HPC\n",
    "    * generally takes the format of unam emails\n",
    "* ```<server>```\n",
    "    * uhpc.unam.na"
   ]
  },
  {
   "cell_type": "code",
   "execution_count": null,
   "id": "24d49e19",
   "metadata": {},
   "outputs": [],
   "source": [
    "ssh -p 1510 hkatjaita@uhpc.unam.na"
   ]
  },
  {
   "cell_type": "code",
   "execution_count": null,
   "id": "1def5327",
   "metadata": {},
   "outputs": [],
   "source": [
    "ssh -p 1510 hkatjaita@192.168.124.10"
   ]
  },
  {
   "cell_type": "markdown",
   "id": "add7e583",
   "metadata": {},
   "source": [
    "### **Password**\n",
    "\n",
    "* start2020\n",
    "\n",
    "\n",
    "### CHANGE THE PASSWORD!\n",
    "Please change the password as soon as possible using:\n",
    "\n",
    "* passwd\n",
    "\n",
    "\n",
    "\n",
    "### **Navigating the computer with terminal**\n",
    "Since there is no gui we must navigate using SPECIFIC commands.\n",
    "\n",
    "### Where am I now?"
   ]
  },
  {
   "cell_type": "code",
   "execution_count": null,
   "id": "8e05913b",
   "metadata": {},
   "outputs": [],
   "source": [
    "pwd"
   ]
  },
  {
   "cell_type": "markdown",
   "id": "ad9cb1c1",
   "metadata": {},
   "source": [
    "### We call folders directories in linux.\n",
    "Therefore is we want to move to a different directory we must change directory to a different directory.</br> The command for this cd </br>\n",
    "\n",
    "**Synopsis**: cd ```<name_of_directory>```\n",
    "\n",
    "But first let us create a directory using mkdir which uses the same synopsis."
   ]
  },
  {
   "cell_type": "code",
   "execution_count": null,
   "id": "989323af",
   "metadata": {},
   "outputs": [],
   "source": [
    "mkdir Documents"
   ]
  },
  {
   "cell_type": "code",
   "execution_count": null,
   "id": "06dd982c",
   "metadata": {},
   "outputs": [],
   "source": [
    "cd Documents"
   ]
  },
  {
   "cell_type": "code",
   "execution_count": null,
   "id": "a7009bf8",
   "metadata": {},
   "outputs": [],
   "source": [
    "pwd"
   ]
  },
  {
   "cell_type": "markdown",
   "id": "b8f58cd0",
   "metadata": {},
   "source": [
    "# Basic file management commands/tools\n",
    "\n",
    "### List the files in pwd.\n",
    "\n",
    "We use the ls command"
   ]
  },
  {
   "cell_type": "code",
   "execution_count": null,
   "id": "885930fe",
   "metadata": {},
   "outputs": [],
   "source": [
    "ls"
   ]
  },
  {
   "cell_type": "markdown",
   "id": "e973711a",
   "metadata": {},
   "source": [
    "Of course there are no files in this directory because we placed nothing in it.</br>\n",
    "Let us now go back to the previous directory ($HOME)."
   ]
  },
  {
   "cell_type": "code",
   "execution_count": null,
   "id": "581f5585",
   "metadata": {},
   "outputs": [],
   "source": [
    "cd ../"
   ]
  },
  {
   "cell_type": "markdown",
   "id": "b8ae7518",
   "metadata": {},
   "source": [
    "## Paths\n",
    "\n",
    "#### There are two ways of using the cd command.\n",
    "\n",
    "1. Using absolute directory paths.\n",
    "    * If you understand the file structure you can start with the root directory which is /\n",
    "        * In this case your home directory path would take the form /home/`<username>`/ \n",
    "\n",
    "    * You can also use '~/' to point to your home directory and then continue to construct your path from there.\n",
    "\n",
    "2. Using relative path directories\n",
    "    * './' current directory\n",
    "    * '../' previous directory\n",
    "\n",
    "\n",
    "### Now that we know how to navigate let us create some files.\n",
    "\n",
    "Move into the Documents folder and create a file name text.txt\n",
    "New files are created using the touch command\n",
    "\n",
    "**Synopsis**: touch `<name_of_file>`"
   ]
  },
  {
   "cell_type": "code",
   "execution_count": null,
   "id": "04294501",
   "metadata": {},
   "outputs": [],
   "source": [
    "cd Documents"
   ]
  },
  {
   "cell_type": "code",
   "execution_count": null,
   "id": "9c5e165f",
   "metadata": {},
   "outputs": [],
   "source": [
    "touch text.txt"
   ]
  },
  {
   "cell_type": "code",
   "execution_count": null,
   "id": "d187abbb",
   "metadata": {},
   "outputs": [],
   "source": [
    "ls"
   ]
  },
  {
   "attachments": {},
   "cell_type": "markdown",
   "id": "292fd7bd",
   "metadata": {},
   "source": [
    "## Now we have the following structure.\n",
    "\n",
    "![](structure2.png)\n",
    "\n",
    "\n",
    "#### File editing\n",
    "The file text.txt has nothing in it so let us edit this file. We edit files using text editors. There are many terminal based text editors but I will only introduce you to one. **nano**\n",
    "\n",
    "**Synopsis**: nano `<file_to_edit>`"
   ]
  },
  {
   "cell_type": "code",
   "execution_count": null,
   "id": "7b1e4a35",
   "metadata": {},
   "outputs": [],
   "source": [
    "nano text.txt"
   ]
  },
  {
   "attachments": {},
   "cell_type": "markdown",
   "id": "4b9c31bf",
   "metadata": {},
   "source": [
    "![](Nano.png)\n"
   ]
  },
  {
   "cell_type": "markdown",
   "id": "73b4c4d3",
   "metadata": {},
   "source": [
    "To save do: _CTRL+X_ then Y then _ENTER_"
   ]
  },
  {
   "cell_type": "markdown",
   "id": "213abfca",
   "metadata": {},
   "source": [
    "## Viewing file contents\n",
    "\n",
    "Now that the file is created we do not need open it with _nano_ everytime we want to read it. <br>\n",
    "We can now use text reading commands: _cat, head, tail, less_: <br>\n",
    "\n",
    "    - cat <filename> | is used when you want to display all the contents of one file\n",
    "    - head <filename> | displaying first few lines of file\n",
    "    - tail <filename> | displaying last few lines of file\n",
    "    - less <filename> | display all contents one screen at a time"
   ]
  },
  {
   "cell_type": "code",
   "execution_count": null,
   "id": "2ab70cf0",
   "metadata": {},
   "outputs": [],
   "source": [
    "cat text.txt"
   ]
  },
  {
   "cell_type": "code",
   "execution_count": null,
   "id": "aa8ba9c4",
   "metadata": {},
   "outputs": [],
   "source": [
    "head text.txt                       ##Dispays the first 10 lines of the file by default"
   ]
  },
  {
   "cell_type": "code",
   "execution_count": null,
   "id": "1a9e212f",
   "metadata": {},
   "outputs": [],
   "source": [
    "head -n 3 text.txt                  ##Dispays the first 3 lines of the file       "
   ]
  },
  {
   "cell_type": "code",
   "execution_count": null,
   "id": "bbc6fb3a",
   "metadata": {},
   "outputs": [],
   "source": [
    "tail text.txt                       ##Dispays the last 10 lines of the file by default"
   ]
  },
  {
   "cell_type": "code",
   "execution_count": null,
   "id": "f7468748",
   "metadata": {},
   "outputs": [],
   "source": [
    "tail -n 4 text.txt                  ##Dispays the last 4 lines of the file"
   ]
  },
  {
   "attachments": {},
   "cell_type": "markdown",
   "id": "0a13e427",
   "metadata": {},
   "source": [
    "\n",
    "\n",
    "<h1>Exercise</h1>\n",
    "Create the following directory and file structure\n"
   ]
  },
  {
   "cell_type": "markdown",
   "id": "750d864a",
   "metadata": {},
   "source": [
    "![](structure3.png)\n",
    "\n",
    "\n",
    "</br>\n",
    "</br>\n",
    "Hints:\n",
    "Commands to use: cd, touch, mkdir\n",
    "\n",
    "<span style='color: red;'>Rectangles are directories and elipses are text files.</span>\n"
   ]
  },
  {
   "cell_type": "code",
   "execution_count": null,
   "id": "a2978dc0",
   "metadata": {},
   "outputs": [],
   "source": []
  },
  {
   "cell_type": "markdown",
   "id": "aacde419",
   "metadata": {},
   "source": [
    "## Deleting files\n",
    "\n",
    "In linux we _remove_ files using the _rm_ command.\n",
    "\n",
    "**Synopsis**: _rm <filename\\>_\n"
   ]
  },
  {
   "cell_type": "code",
   "execution_count": null,
   "id": "1ac4f6ca",
   "metadata": {},
   "outputs": [],
   "source": [
    "rm /home/hkatjaita/Documents/Jobs/job1.txt"
   ]
  },
  {
   "cell_type": "code",
   "execution_count": null,
   "id": "03160187",
   "metadata": {},
   "outputs": [],
   "source": [
    "rm -r /home/hkatjaita/Documents/Code/C"
   ]
  },
  {
   "cell_type": "code",
   "execution_count": null,
   "id": "d2f6ba1c",
   "metadata": {},
   "outputs": [],
   "source": [
    "ls"
   ]
  },
  {
   "cell_type": "markdown",
   "id": "eebae7bd",
   "metadata": {},
   "source": [
    "<br>\n",
    "\n",
    "## Moving and Copying files\n",
    "\n",
    "To move files from one folder to another we use the move command _mv_. <br>\n",
    "\n",
    "**Synopsis**: <em>mv <Source\\> <Destination\\><em>. <br>\n",
    "\n",
    "\n",
    "To copy files from one folder to another (or one file to the other) we use the copy command _cp_. <br>\n",
    "**Synopsis**: _cp <Source\\> <Destination\\>_. <br>\n",
    "\n",
    "The source and destination can be directories or files. <br>\n",
    "\n",
    "Let us copy the text.txt file to our \"Code\" directory. Then change it's name to text2.txt.\n",
    "\n"
   ]
  },
  {
   "cell_type": "code",
   "execution_count": null,
   "id": "4766c852",
   "metadata": {},
   "outputs": [],
   "source": [
    "cp ~/Documents/text.txt ~/Documents/Code/"
   ]
  },
  {
   "cell_type": "code",
   "execution_count": null,
   "id": "750dadbe",
   "metadata": {},
   "outputs": [],
   "source": [
    "mv ~/Documents/Code/text.txt ~/Documents/Code/text2.txt"
   ]
  },
  {
   "cell_type": "markdown",
   "id": "22398e4b",
   "metadata": {},
   "source": [
    "\n",
    "\n",
    "# Piping\n",
    "\n",
    "It is common to want to thread the ouput of one command into another, i.e. use the output of one command as the input into another command.<br>\n",
    "**This is called piping.** Piping is done with the the \"|\" character.\n",
    "A common command used with piping is called the _grep_ command. This command _grabs_ a piece of information from a lot of input information.\n",
    "\n",
    "**Synopsis**: cat text2.txt | grep 'Thou'"
   ]
  },
  {
   "cell_type": "code",
   "execution_count": null,
   "id": "f66ef27e",
   "metadata": {},
   "outputs": [],
   "source": [
    "cat text2.txt | grep 'Thou'"
   ]
  },
  {
   "cell_type": "code",
   "execution_count": null,
   "id": "4afbb04b",
   "metadata": {},
   "outputs": [],
   "source": [
    "cat text2.txt | grep 'heaven'"
   ]
  },
  {
   "cell_type": "markdown",
   "id": "d22f2efe",
   "metadata": {},
   "source": [
    "\n",
    "\n",
    "# Environment Variables\n",
    "\n",
    "Environment variables are variables stored in memory and can be accessed anytime in the bash shell. A common environment variable is the \\$HOME variable. <br>\n",
    "<font color=red>Note that variables in bash are denoted with a '\\$'.</font>\n",
    "\n",
    "Environment variables are just as usefull as variables in any other programming language."
   ]
  },
  {
   "cell_type": "markdown",
   "id": "dd7b34af",
   "metadata": {},
   "source": [
    "### echo is synonymous to _print_ in python\n",
    "\n",
    "We can set environment varables using the _export_ command.\n",
    "\n",
    "**Synopsis**: <em>export <variable_name\\>=<value\\> <em>\n",
    "\n",
    "\n",
    "<br>\n",
    "Let us set a variable to quickly get to our Python directory."
   ]
  },
  {
   "cell_type": "code",
   "execution_count": null,
   "id": "27e69081",
   "metadata": {},
   "outputs": [],
   "source": [
    "export PYTHON=~/Documents/Code/Python\n",
    "echo $PYTHON"
   ]
  },
  {
   "cell_type": "code",
   "execution_count": null,
   "id": "3c4915c5",
   "metadata": {},
   "outputs": [],
   "source": [
    "mkdir -p $PYTHON"
   ]
  },
  {
   "cell_type": "code",
   "execution_count": null,
   "id": "41e4cea3",
   "metadata": {},
   "outputs": [],
   "source": [
    "cd $PYTHON\n",
    "pwd"
   ]
  },
  {
   "cell_type": "markdown",
   "id": "61fef0ef",
   "metadata": {},
   "source": [
    "# Transfering Files\n",
    "\n",
    "An important feature required for High Performance Computing is the transfer of files between your local computer and the HPC. <br>\n",
    "To copy files from your local machine you need one of two tools. A local bash shell (with _scp_) or WinSCP (Windows users)."
   ]
  },
  {
   "cell_type": "markdown",
   "id": "d554ee15",
   "metadata": {},
   "source": [
    "## _scp_\n",
    "\n",
    "**Synopsis**: scp -P <port_number\\> <file_to_transfer\\> <target_directory\\>\n",
    "\n",
    "One of the last two arguments will be a file path on the HPC and takes the form:<br>\n",
    "\n",
    "**<username\\>@<server\\>:<path_to_directory\\>**\n",
    "\n",
    "Example: To transfer the text.txt file we had created earlier which is in the Documents directory to our local machine in the pwd do:"
   ]
  },
  {
   "cell_type": "code",
   "execution_count": null,
   "id": "2f8eecbc",
   "metadata": {},
   "outputs": [],
   "source": [
    "scp -P 1510 hkatjaita@uhpc.unam.na:/home/hkatjaita/Documents/text.txt ./"
   ]
  },
  {
   "cell_type": "markdown",
   "id": "55f2232e",
   "metadata": {},
   "source": [
    "If we are to copy a file from our local machine to the HPC we would simply switch the source to be a path to the file on the local machine and the destination to the HPC."
   ]
  },
  {
   "cell_type": "code",
   "execution_count": null,
   "id": "b389f4d4",
   "metadata": {},
   "outputs": [],
   "source": [
    "scp -P 1510 ./text.txt hkatjaita@uhpc.unam.na:/home/Documents/"
   ]
  },
  {
   "cell_type": "markdown",
   "id": "8856b9ff",
   "metadata": {},
   "source": [
    "\n",
    "\n",
    "# WinSCP\n",
    "\n",
    "This is a free program for windows and can assist in file transfers. **I recommend staying in the command line as much as possible.**<br>\n",
    "\n",
    "Download page: https://winscp.net/eng/download.php"
   ]
  },
  {
   "attachments": {},
   "cell_type": "markdown",
   "id": "a2937da2",
   "metadata": {},
   "source": [
    "![](WinSCP1.png)"
   ]
  },
  {
   "attachments": {},
   "cell_type": "markdown",
   "id": "c99dcb8c",
   "metadata": {},
   "source": [
    "\n",
    "![](WinSCP2.png)"
   ]
  },
  {
   "attachments": {},
   "cell_type": "markdown",
   "id": "98638728",
   "metadata": {},
   "source": [
    "![](WinSCP3.png)"
   ]
  },
  {
   "cell_type": "markdown",
   "id": "ef8989d2",
   "metadata": {},
   "source": [
    "# THANK YOU"
   ]
  }
 ],
 "metadata": {
  "kernelspec": {
   "display_name": "Python 3 (ipykernel)",
   "language": "python",
   "name": "python3"
  },
  "language_info": {
   "codemirror_mode": {
    "name": "ipython",
    "version": 3
   },
   "file_extension": ".py",
   "mimetype": "text/x-python",
   "name": "python",
   "nbconvert_exporter": "python",
   "pygments_lexer": "ipython3",
   "version": "3.8.10"
  }
 },
 "nbformat": 4,
 "nbformat_minor": 5
}
