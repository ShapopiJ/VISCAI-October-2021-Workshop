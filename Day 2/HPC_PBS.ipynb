{
 "cells": [
  {
   "cell_type": "markdown",
   "source": [
    "# DAY 2\n",
    "\n",
    "Today we will be looking at|\n",
    "\n",
    "1. Structure of the UNAM HPC\n",
    "2. PBS Job Scheduler\n",
    "3. Creating a PBS script\n",
    "4. Job scheduling and submission\n",
    "5. Controlling and monitoring jobs\n",
    "6. Job outputs\n",
    "\n",
    "### TIPS\n",
    "\n",
    "* Have a terminal open and logged into the UHPC."
   ],
   "metadata": {}
  },
  {
   "cell_type": "markdown",
   "source": [
    "## 1. Structure of UHPC\n",
    "<img src=\"structure.png\" style=\"width:401px\">"
   ],
   "metadata": {}
  },
  {
   "cell_type": "markdown",
   "source": [
    "### Some terminology\n",
    "\n",
    "* Login (manager and storage) node: Refers to the computer we access via the internet to reach the cluster. This computer manages the compute nodes as well as serving as a storage server for our files.\n",
    "* Compute (worker) node: individual computer (housed in a rack), responsible for performing computations in a cluster. Typically has a couple of CPUs, onboard RAM and runs its own instance of an operating system.\n",
    "* HPC/Cluster/Supercomputer: A set of individual compute nodes connected together via a computer network and in some aspects viewed as a single computer. \n",
    "* CPU (processor): integrated electronic circuitry within a computer that executes instructions that make up a computer program. The CPU performs basic arithmetic, logic, controlling, and input/output (I/O) operations specified by the instructions in the program.\n",
    "* CPU Core: a single processor on a multi processor CPU. CPUs can have multiple cores which can independently perform different instructions.\n",
    "* Walltime: estimate amount of time the job might need on the cluster.\n"
   ],
   "metadata": {}
  },
  {
   "cell_type": "markdown",
   "source": [
    "### After logging onto to the HPC you should see a message such as this:\n",
    "\n",
    "\n",
    "<img src=\"greeting.png\" style=\"width:400px\">"
   ],
   "metadata": {}
  },
  {
   "cell_type": "markdown",
   "source": [
    "## 2. PBS Job Scheduler\n",
    "\n",
    "* A job schedulare on an HPC is software that manages how, when and where processes (jobs) run on the cluster.\n",
    "* This ensures that jobs run at their highest performance without overloading a compute node while giving each user's job a chance to be processed \"fairly\"\n",
    "\n",
    "\n",
    "![](job_scheduler.svg)"
   ],
   "metadata": {}
  },
  {
   "cell_type": "markdown",
   "source": [
    "### The Portable Batch System (PBS)\n",
    "\n",
    "* The UHPC uses PBS for job scheduling.\n",
    "* PBS is responsible for allocating computational tasks, i.e., jobs, among the available computing resources (nodes).\n",
    "* PBS takes a set of commands in script that will be processed on a node."
   ],
   "metadata": {}
  },
  {
   "cell_type": "markdown",
   "source": [
    "## 3. Creating a PBS Script\n",
    "\n",
    "### Simplest form of a PBS script.\n",
    "\n",
    "Save the text below in a text file called \"submission\""
   ],
   "metadata": {}
  },
  {
   "cell_type": "code",
   "execution_count": null,
   "source": [
    "nano submission"
   ],
   "outputs": [],
   "metadata": {}
  },
  {
   "cell_type": "code",
   "execution_count": null,
   "source": [
    "#!/bash/bin\n",
    "\n",
    "echo \"Hello World\""
   ],
   "outputs": [],
   "metadata": {}
  },
  {
   "cell_type": "markdown",
   "source": [
    "Line 1: Defines the language used in the script </br>\n",
    "Line 3: Prints the words \"Hello World\" on the console."
   ],
   "metadata": {}
  },
  {
   "cell_type": "markdown",
   "source": [
    "### qsub\n",
    "\n",
    "Now that the \"submission\" file has been created we can submit it to the job schedular to find us a possible node to process the job. </br>\n",
    "\n",
    "To do this we use the __*qsub*__ command"
   ],
   "metadata": {}
  },
  {
   "cell_type": "code",
   "execution_count": null,
   "source": [
    "qsub submission"
   ],
   "outputs": [],
   "metadata": {}
  },
  {
   "cell_type": "markdown",
   "source": [
    "<xxxx\\>.uhpc.unam.na\n",
    "\n",
    "*xxxx* = job number automatically assigned by PBS"
   ],
   "metadata": {}
  },
  {
   "cell_type": "markdown",
   "source": [
    "If this file was executed on the headnode where we are logged in we would expect an output:"
   ],
   "metadata": {}
  },
  {
   "cell_type": "markdown",
   "source": [
    "\"Hello World\""
   ],
   "metadata": {}
  },
  {
   "cell_type": "markdown",
   "source": [
    "### So why did we not see anything?\n",
    "\n",
    "Since the script was submitted to the job scheduler it was processed on the node and we \"can't\" interactively see what is happening there.</br>\n",
    "\n",
    "Therefore PBS produces an __OUTPUT__ and an __ERROR__ file. Let us look at these"
   ],
   "metadata": {}
  },
  {
   "cell_type": "code",
   "execution_count": null,
   "source": [
    "ls"
   ],
   "outputs": [],
   "metadata": {}
  },
  {
   "cell_type": "markdown",
   "source": [
    "submission &emsp; submission.e<xxxx\\> &emsp; submission.o<xxxx\\>"
   ],
   "metadata": {}
  },
  {
   "cell_type": "code",
   "execution_count": null,
   "source": [
    "cat sumbission.o<xxxx>"
   ],
   "outputs": [],
   "metadata": {}
  },
  {
   "cell_type": "markdown",
   "source": [
    "Hello World"
   ],
   "metadata": {}
  },
  {
   "cell_type": "markdown",
   "source": [
    "So the file was processed on a node and the output was placed into the output file, if there had been any errors they would go into the error file. \n",
    "\n",
    "\n",
    "We saw the simplest form of the PBS script however there are quite a bit of details we may want to give to PBS so it know how to schedule your job. This is done with a number PBS specific \"directives\" placed in our submission file.\n",
    "\n"
   ],
   "metadata": {}
  },
  {
   "cell_type": "markdown",
   "source": [
    "__Format of the PBS file__"
   ],
   "metadata": {}
  },
  {
   "cell_type": "code",
   "execution_count": null,
   "source": [
    "#!/bin/bash\n",
    "\n",
    "PBS directives\n",
    "\n",
    "bash command"
   ],
   "outputs": [],
   "metadata": {}
  },
  {
   "cell_type": "markdown",
   "source": [
    "Some PBS directions\n",
    "\n",
    "\n",
    "| Directive | Description |\n",
    "| --- | --- |\n",
    "| #PBS -­‐S /bin/bash | Sets the shell that the job will be executed on the compute node |\n",
    "| #PBS ‐l nodes=N:ppn=N | Requests for N processors on N node. |\n",
    "| #PBS ­‐l walltime=HH:MM:SS | Requests amount of time the job will need on the cluster |\n",
    "| #PBS -N JobName | Specifies the job name in the script |\n",
    "| #PBS -o stdout_file | Specifies the output file for the job |\n",
    "| #PBS -e stderr_file | Specifies file to store errors for the job |\n",
    "\n",
    "So let us edit our current current submission file to give PBS some more details"
   ],
   "metadata": {}
  },
  {
   "cell_type": "code",
   "execution_count": null,
   "source": [
    "nano submission"
   ],
   "outputs": [],
   "metadata": {}
  },
  {
   "cell_type": "code",
   "execution_count": null,
   "source": [
    "#!/bin/bash\n",
    "\n",
    "#PBS -N Hello\n",
    "#PBS -o output.txt\n",
    "#PBS -e error.txt\n",
    "#PBS -l walltime=2:00:00\n",
    "\n",
    "echo \"Hello World\"\n",
    "touch text.txt\n",
    "echo \"Hello text file\" > text.txt\n"
   ],
   "outputs": [],
   "metadata": {}
  },
  {
   "cell_type": "code",
   "execution_count": null,
   "source": [
    "qsub submission"
   ],
   "outputs": [],
   "metadata": {}
  },
  {
   "cell_type": "markdown",
   "source": [
    "<xxxx\\>.uhpc.unam.na"
   ],
   "metadata": {}
  },
  {
   "cell_type": "markdown",
   "source": [
    "Now we have specified quite a number of things to PBS.\n",
    "\n",
    "* Line 3: The name of our Job\n",
    "* Line 4: The output file we would like to use\n",
    "* Line 5: The error file we would like to use\n",
    "* Line 6: The maximum time this job would take.\n",
    "\n",
    "We also do a little more than just output some text.\n",
    "\n",
    "* Line 8: Output text like before</br>\n",
    "* Line 9: create a text.txt file</br>\n",
    "* Line 10: echo some text and _append_ it to the text.txt file</br>"
   ],
   "metadata": {}
  },
  {
   "cell_type": "code",
   "execution_count": null,
   "source": [
    "ls"
   ],
   "outputs": [],
   "metadata": {}
  },
  {
   "cell_type": "markdown",
   "source": [
    "error.txt &emsp; output.txt &emsp; submission &emsp; text.txt"
   ],
   "metadata": {}
  },
  {
   "cell_type": "markdown",
   "source": [
    "Since we have specified the ouput file and the error file these two files have been created."
   ],
   "metadata": {}
  },
  {
   "cell_type": "code",
   "execution_count": null,
   "source": [
    "cat output.txt"
   ],
   "outputs": [],
   "metadata": {}
  },
  {
   "cell_type": "markdown",
   "source": [
    "Hello World"
   ],
   "metadata": {}
  },
  {
   "cell_type": "code",
   "execution_count": null,
   "source": [
    "cat text.txt"
   ],
   "outputs": [],
   "metadata": {}
  },
  {
   "cell_type": "markdown",
   "source": [
    "Hello text file"
   ],
   "metadata": {}
  },
  {
   "cell_type": "markdown",
   "source": [
    "## 4. Job Scheduling and Submission\n",
    "\n",
    "### A few things to keep in mind when writing your script\n",
    "\n",
    "1. The script will behave as if you just logged into the cluster and are starting to do some work.\n",
    "    - Thus the directory you are in by default is the __home__ directory.\n",
    "    - It is a common mistake to think you will be in the directory you were when you submitted the job.\n",
    "2. All outputs go into the present working directory unless otherwise specified.\n",
    "\n",
    "    PBS has a solution to this..."
   ],
   "metadata": {}
  },
  {
   "cell_type": "markdown",
   "source": [
    "### PBS variables\n",
    "\n",
    "PBS sets a number of variables everytime a job is submitted\n",
    "\n",
    "| variable | Description |\n",
    "| --- | --- |\n",
    "| $PBS_JOBNAME | contains the job name supplied by the user |\n",
    "| $PBS_O_WORKDIR | the absolute path of the current working directory of the qsub command |\n",
    "\n",
    "To name a few.\n",
    "\n",
    "With this information we can now use the $PBS_O_WORKDIR to go to the directory where we submitted the job while in the bash script."
   ],
   "metadata": {}
  },
  {
   "cell_type": "code",
   "execution_count": null,
   "source": [
    "cd $PBS_O_WORKDIR\n",
    "echo $PBS_JOBNAME > text.txt"
   ],
   "outputs": [],
   "metadata": {}
  },
  {
   "cell_type": "markdown",
   "source": [
    "* Line 1: change directory to the directory from which I submitted __this__ job\n",
    "* Line 2: create a text file by the name _text.txt_ and __echo__ the name of the of __this__ job there."
   ],
   "metadata": {}
  },
  {
   "cell_type": "markdown",
   "source": [
    "## 5. Controlling and Monitoring Jobs\n",
    "\n",
    "It is necessary for us to manage our job once it is running.\n",
    "\n",
    "### A few useful PBS commands \n",
    "\n",
    "| command | Description |\n",
    "| --- | --- |\n",
    "| qsub | Submit a job |\n",
    "| qdel | Delete a batch job |\n",
    "| qsig | Send a signal to batch job |\n",
    "| qhold | Hold a batch job |\n",
    "| qrls | Release held jobs |\n",
    "| qrerun | Rerun a batch job |\n",
    "| qmove | Move a batch job to another queue |\n",
    "| qstat | see status of running jobs |\n",
    "\n"
   ],
   "metadata": {}
  },
  {
   "cell_type": "markdown",
   "source": [
    "### qstat\n",
    "\n",
    "This command lists the current jobs that are running and with the right options you can also list the jobs that are done running.\n",
    "\n"
   ],
   "metadata": {}
  },
  {
   "cell_type": "code",
   "execution_count": null,
   "source": [
    "qstat -fax"
   ],
   "outputs": [],
   "metadata": {}
  },
  {
   "cell_type": "code",
   "execution_count": null,
   "source": [
    "uhpc.unam.na: \n",
    "                                                            Req'd  Req'd   Elap\n",
    "Job ID          Username Queue    Jobname    SessID NDS TSK Memory Time  S Time\n",
    "--------------- -------- -------- ---------- ------ --- --- ------ ----- - -----\n",
    "7532.uhpc.unam. alimbo   workq    MyTestJob   32509   5  10    --    --  F 00:00\n",
    "7533.uhpc.unam. daniels  workq    sub         24137   1   1    --    --  F 00:00\n",
    "7534.uhpc.unam. jshapopi workq    submission   6749   1   1    --    --  F 00:00\n",
    "7535.uhpc.unam. test2    workq    submission  14016   1   1    --    --  F 00:00\n",
    "7536.uhpc.unam. jshapopi workq    tester      14164   1   1    --    --  F 00:00\n"
   ],
   "outputs": [],
   "metadata": {}
  },
  {
   "cell_type": "markdown",
   "source": [
    "### qdel\n",
    "\n",
    "This command simply deletes a running job\n",
    "\n"
   ],
   "metadata": {}
  },
  {
   "cell_type": "code",
   "execution_count": null,
   "source": [
    "qstat <xxxx>"
   ],
   "outputs": [],
   "metadata": {}
  },
  {
   "cell_type": "markdown",
   "source": [
    "## 6. Outputs\n",
    "\n",
    "We discussed quite a lot now abou the outputs so let us run a job using all the information we learned.\n",
    "\n",
    "Yesterday you were asked to produce the following directory structure:\n",
    "\n",
    "<img src=\"structure3.png\" style=\"width:700px\">\n",
    "\n",
    "Create a job1.sh file in the Jobs directory with the following contents"
   ],
   "metadata": {}
  },
  {
   "cell_type": "code",
   "execution_count": null,
   "source": [
    "#!/bin/sh\n",
    "\n",
    "#PBS -N tester\n",
    "#PBS -e /home/<username_here>/Documents/Jobs/error.txt\n",
    "#PBS -o /home/<username_here>/Documents/Jobs/output.txt\n",
    "\n",
    "\n",
    "export PBS_O_HOME=$PBS_O_WORKDIR\n",
    "cd $PBS_O_WORKDIR\n",
    "SERVER=$PBS_O_HOST\n",
    "WORKDIR=/scratch/PBS_$PBS_JOBID\n",
    "PERMDIR=${HOME}\n",
    "\n",
    "SERVPERMDIR=${PBS_O_HOST}:${PERMDIR}\n",
    "\n",
    "echo server is $SERVER\n",
    "echo workdir is $WORKDIR\n",
    "echo permdir is $PERMDIR\n",
    "echo servpermdir is $SERVPERMDIR\n",
    "echo working is $PBS_O_WORKDIR\n",
    "echo home is $PBS_O_HOME\n",
    "\n",
    "touch one\n",
    "touch two\n",
    "touch three\n",
    "python /home/<username_here>/Documents/Code/Python/hello.py"
   ],
   "outputs": [],
   "metadata": {}
  },
  {
   "cell_type": "markdown",
   "source": [
    "### Important lines description\n",
    "\n",
    "* Line 1-5: Prepare the environment and tell PBS where to put the error files\n",
    "* Line 9: Go to the Jobs directory\n",
    "* Line 8-21: Echo some things.\n",
    "* Line 23-25: Create 3 text files\n",
    "* Line 26: run the python code"
   ],
   "metadata": {}
  },
  {
   "cell_type": "markdown",
   "source": [
    "Create another python file called hello.py in the Python directory with the following:"
   ],
   "metadata": {}
  },
  {
   "cell_type": "code",
   "execution_count": null,
   "source": [
    "print(\"Hello World\")\n",
    "text = \"This is some text I want to output to a file\"\n",
    "fi = open(\"python_text.txt\", \"w\")\n",
    "fi.write(text)\n",
    "fi.close()"
   ],
   "outputs": [],
   "metadata": {}
  },
  {
   "cell_type": "markdown",
   "source": [
    "* Line 1: Print Hello World to console\n",
    "* Line 2: create a variable with some text\n",
    "* Line 3: open a text file for writing\n",
    "* Line 4: write the variable in line 2 to the file opened\n",
    "* Line 5: close the file\n",
    "\n",
    "Now go back to the Jobs directory and submit the job1.sh"
   ],
   "metadata": {}
  },
  {
   "cell_type": "code",
   "execution_count": null,
   "source": [
    "qsub job1.sh"
   ],
   "outputs": [],
   "metadata": {}
  },
  {
   "cell_type": "markdown",
   "source": [
    "## Pop Quiz\n",
    "\n",
    "1. Where will all the outputs go?\n",
    "2. Why was it necessary to give the full path of the python file line 26 of the job1.sh file?\n",
    "3. Does _qsub job1.sh_ and _qsub /home/<username_here>/Documents/Jobs/job1.sh_ have the same output?\n",
    "4. What will be different?\n"
   ],
   "metadata": {}
  },
  {
   "cell_type": "markdown",
   "source": [
    "# Advanced Content\n",
    "\n",
    "1. The bashrc file\n",
    "2. How to install programs\n",
    "3. _rsync_"
   ],
   "metadata": {}
  },
  {
   "cell_type": "markdown",
   "source": [
    "# 1. The bashrc file\n",
    "\n",
    "There is a file in all oour home directories called the bashrc file. This file is named _.bashrc_ This means that it is hidden and cannot be seen unless you explicitly tell the _ls_ command to show all hidden files"
   ],
   "metadata": {}
  },
  {
   "cell_type": "code",
   "execution_count": null,
   "source": [
    "ls -la"
   ],
   "outputs": [],
   "metadata": {}
  },
  {
   "cell_type": "markdown",
   "source": [
    ".bashrc &emsp; ..."
   ],
   "metadata": {}
  },
  {
   "cell_type": "markdown",
   "source": [
    "The .bashrc file is executed everytime someone logs in. Therefore it is a usefull place to put some things that you usually do when you log in, i.e. the things you would like to have automatically done when logging in. For many people this file can be quite large.\n",
    "\n",
    "### Common things you may put in a .bashrc file\n",
    "\n",
    "1. aliases: these are shortcuts to otherwise very long commands\n",
    "    - e.g.; _alias jobs='qstat -r -wf | grep Job_Name'_\n",
    "    - This command lists all the active jobs by jobname\n",
    "    - This is long and I am lazy, so I make an alias (shortcut)\n",
    "    - Now when I type _jobs_ I will get what I desire\n",
    "    - You can also use these if there are commands you easily forget.\n",
    "2. Environment variables:\n",
    "    - If you would like to store some variables or change a default variable everytime you log in this would be the place to do it.\n",
    "\n",
    "#### Basically you can use this file for just about anyting.\n",
    "\n"
   ],
   "metadata": {}
  },
  {
   "cell_type": "markdown",
   "source": [
    "## 2. How to install programs\n",
    "\n",
    "Most basic pragrams used in science are installed on the HPC but if there is something not installed you have two options:\n",
    "\n",
    "1. Compile it from source code (This can get technical)\n",
    "2. Ask your closest system admin (Myself, Anton or Hiiko)"
   ],
   "metadata": {}
  },
  {
   "cell_type": "markdown",
   "source": [
    "## 3. _rsync_\n",
    "\n",
    "_rsync_ is another way of coping files that is most commonly used for making large file transfers.\n",
    "\n",
    "* _rsync_ is used to synchronize data between local computer and the HPC \n",
    "* It is important because it does the job in a smart way. \n",
    "* Synchronizing two directories. \n",
    "* Works similar to scp.\n",
    "    - Specifying the port is a little different.\n",
    "    \n",
    "**Synopsis**: <em>rsync \"ssh -p 1510\" <source\\> <destination\\><em>"
   ],
   "metadata": {}
  }
 ],
 "metadata": {
  "interpreter": {
   "hash": "4eee28bd81bf0d6fe122286def18555bd32f32fd8d40cbd0e7aced7e79a2a2ec"
  },
  "kernelspec": {
   "display_name": "Python 3.8.8 64-bit ('base': conda)",
   "name": "python3"
  },
  "language_info": {
   "codemirror_mode": {
    "name": "ipython",
    "version": 3
   },
   "file_extension": ".py",
   "mimetype": "text/x-python",
   "name": "python",
   "nbconvert_exporter": "python",
   "pygments_lexer": "ipython3",
   "version": "3.8.8"
  },
  "orig_nbformat": 4
 },
 "nbformat": 4,
 "nbformat_minor": 2
}