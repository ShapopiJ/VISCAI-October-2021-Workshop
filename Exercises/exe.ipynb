{
 "cells": [
  {
   "cell_type": "markdown",
   "source": [
    "# Some Exercises"
   ],
   "metadata": {}
  },
  {
   "cell_type": "markdown",
   "source": [
    "## Ex 1\n",
    "\n",
    "1. Create a directory in your home directory called _**exercises**_\n",
    "2. Create a file called _maximum.py_ in this folder.\n",
    "3. Create a file called submission in this same directory.\n",
    "4. Create another directory inside _**exercises**_ called _**results**_.\n",
    "5. Create another file called in the _**exercises**_ directory called data.dat"
   ],
   "metadata": {}
  },
  {
   "cell_type": "markdown",
   "source": [
    "6. Place the following in the _maximum.py_ file"
   ],
   "metadata": {}
  },
  {
   "cell_type": "code",
   "execution_count": null,
   "source": [
    "import numpy as np\n",
    "\n",
    "data = np.loadtxt(\"data.dat\", delimiter = '\\n')\n",
    "print \"%f\" %data.max()\n"
   ],
   "outputs": [
    {
     "output_type": "execute_result",
     "data": {
      "text/plain": [
       "4.0"
      ]
     },
     "metadata": {},
     "execution_count": 1
    }
   ],
   "metadata": {}
  },
  {
   "cell_type": "markdown",
   "source": [
    "7. Insert the following in the file called _data.dat_"
   ],
   "metadata": {}
  },
  {
   "cell_type": "raw",
   "source": [
    "2\n",
    "3\n",
    "4\n",
    "5\n",
    "6"
   ],
   "metadata": {}
  },
  {
   "cell_type": "markdown",
   "source": [
    "8. Place the following file in the _**exercises**_ directory as job.sh"
   ],
   "metadata": {}
  },
  {
   "cell_type": "code",
   "execution_count": null,
   "source": [
    "#!/bin/sh\n",
    "\n",
    "#PBS -N maximum\n",
    "#PBS -o /home/<your username\\>/exercises/results/output.txt\n",
    "#PBS -e /home/<your username\\>/exercises/results/error.txt\n",
    "#PBS -l walltime=2:00:00\n",
    "\n",
    "cd $PBS_O_WORKDIR\n",
    "python maximum.py\n",
    "python maximum.py > file.txt"
   ],
   "outputs": [],
   "metadata": {}
  },
  {
   "cell_type": "markdown",
   "source": [
    "9. submit this file with qsub"
   ],
   "metadata": {}
  },
  {
   "cell_type": "markdown",
   "source": [
    "## Pop Quiz\n",
    "\n",
    "* Where do you expect all the outputs.\n",
    "* What outputs do you expect?\n",
    "* What was your job number"
   ],
   "metadata": {}
  },
  {
   "cell_type": "markdown",
   "source": [
    "# Solution\n",
    "\n",
    "1. Create a directory in your home directory called _**exercises**_\n"
   ],
   "metadata": {}
  },
  {
   "cell_type": "code",
   "execution_count": null,
   "source": [
    "mkdir exercises"
   ],
   "outputs": [],
   "metadata": {}
  },
  {
   "cell_type": "markdown",
   "source": [
    "\n",
    "2. Create a file called _maximum.py_ in this folder.\n"
   ],
   "metadata": {}
  },
  {
   "cell_type": "code",
   "execution_count": null,
   "source": [
    "cd exercises\n",
    "touch maximum.py"
   ],
   "outputs": [],
   "metadata": {}
  },
  {
   "cell_type": "markdown",
   "source": [
    "\n",
    "3. Create a file called _submission_ in this same directory.\n"
   ],
   "metadata": {}
  },
  {
   "cell_type": "code",
   "execution_count": null,
   "source": [
    "touch submission"
   ],
   "outputs": [],
   "metadata": {}
  },
  {
   "cell_type": "markdown",
   "source": [
    "\n",
    "4. Create another directory inside _**exercises**_ called _**results**_.\n"
   ],
   "metadata": {}
  },
  {
   "cell_type": "code",
   "execution_count": null,
   "source": [
    "mkdir results"
   ],
   "outputs": [],
   "metadata": {}
  },
  {
   "cell_type": "markdown",
   "source": [
    "\n",
    "5. Create another file in the _**exercises**_ directory called data.dat"
   ],
   "metadata": {}
  },
  {
   "cell_type": "code",
   "execution_count": null,
   "source": [
    "touch data.da"
   ],
   "outputs": [],
   "metadata": {}
  },
  {
   "cell_type": "markdown",
   "source": [
    "6. Place the following in the _maximum.py_ file"
   ],
   "metadata": {}
  },
  {
   "cell_type": "code",
   "execution_count": null,
   "source": [
    "ls\n",
    "nano maximum"
   ],
   "outputs": [],
   "metadata": {}
  },
  {
   "cell_type": "markdown",
   "source": [
    "Then copy the code given above, or type it in **and save**.\n",
    "\n",
    "7. Insert the following in the file called _data.dat_"
   ],
   "metadata": {}
  },
  {
   "cell_type": "code",
   "execution_count": null,
   "source": [
    "nano data.dat"
   ],
   "outputs": [],
   "metadata": {}
  },
  {
   "cell_type": "markdown",
   "source": [
    "Then copy the digets in exactly the same way **and save**.\n",
    "\n",
    "8. Place the following file in the _**exercises**_ directory as job.sh"
   ],
   "metadata": {}
  },
  {
   "cell_type": "code",
   "execution_count": null,
   "source": [
    "touch job.sh\n",
    "nano job.sh"
   ],
   "outputs": [],
   "metadata": {}
  },
  {
   "cell_type": "markdown",
   "source": [
    "Then enter the lines given above **and save**. Do not forget to add your username at <your username\\>\n",
    "\n",
    "9. submit this file with qsub"
   ],
   "metadata": {}
  },
  {
   "cell_type": "code",
   "execution_count": null,
   "source": [
    "qsub job.sh"
   ],
   "outputs": [],
   "metadata": {}
  },
  {
   "cell_type": "markdown",
   "source": [
    "## Output\n",
    "\n",
    "* Your results folder should have only 2 files\n",
    "    - error.txt\n",
    "    - output.txt\n",
    "        - Your output.txt file should have the number 6.0000\n",
    "        - Where is this from?\n",
    "\n",
    "* Your exercises folder should have one extra file called _file.txt_ with one line of text:\n",
    "    - 6.0000"
   ],
   "metadata": {}
  }
 ],
 "metadata": {
  "orig_nbformat": 4,
  "language_info": {
   "name": "python",
   "version": "2.7.18",
   "mimetype": "text/x-python",
   "codemirror_mode": {
    "name": "ipython",
    "version": 3
   },
   "pygments_lexer": "ipython3",
   "nbconvert_exporter": "python",
   "file_extension": ".py"
  },
  "kernelspec": {
   "name": "python3",
   "display_name": "Python 2.7.18 64-bit"
  },
  "interpreter": {
   "hash": "e55666fbbf217aa3df372b978577f47b6009e2f78e2ec76a584f49cd54a1e62c"
  }
 },
 "nbformat": 4,
 "nbformat_minor": 2
}